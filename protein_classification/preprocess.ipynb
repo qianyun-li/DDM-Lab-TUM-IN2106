{
 "cells": [
  {
   "cell_type": "code",
   "execution_count": 5,
   "id": "2068b693",
   "metadata": {},
   "outputs": [],
   "source": [
    "import findspark\n",
    "findspark.init()\n",
    "\n",
    "from pyspark.sql import SparkSession\n",
    "import pyspark\n",
    "import numpy as np"
   ]
  },
  {
   "cell_type": "code",
   "execution_count": 6,
   "id": "db8015f2",
   "metadata": {},
   "outputs": [],
   "source": [
    "spark = SparkSession.builder.master(\"spark://master:7077\").appName(\"preprocessForML\").config(\"spark.executor.memory\", \"6gb\").getOrCreate()\n",
    "sc = spark.sparkContext"
   ]
  },
  {
   "cell_type": "code",
   "execution_count": 7,
   "id": "9a07b133",
   "metadata": {},
   "outputs": [
    {
     "name": "stdout",
     "output_type": "stream",
     "text": [
      "['VAAL', 'AGAT', 'DALK', 'GAAL', 'GGAA', 'LAAT', 'LSPS', 'ASPS', 'LGLA', 'PLPP', 'EVEE', 'VLLP', 'SAAE', 'SRLL', 'TVVA', 'AGGR', 'ATVA', 'VAGV', 'AIVA', 'LAST', 'LQRL', 'SAAV', 'LEKV', 'DRLL', 'LLVG', 'ASAV', 'FAAL', 'SSTS', 'AAAG', 'LGVV', 'LAGL', 'ARIL', 'GVPV', 'AIAA', 'ALLL', 'EALE', 'LARV', 'AAVV', 'VAAS', 'ERLR', 'GLDG', 'AGVD', 'AAAN', 'EATA', 'VVVT', 'AVEA', 'GLGR', 'LGIV', 'RAVE', 'VLAL', 'VAGA', 'AERE', 'GASS', 'ERLG', 'TLAE', 'AALL', 'VGLL', 'TSSG', 'ERVL', 'ILSA', 'AGAS', 'AELS', 'EALK', 'LLES', 'AIAT', 'ASLL', 'LGAA', 'AAVR', 'AGAG', 'EAGV', 'IAAR', 'EELL', 'IVLL', 'LGAL', 'EAGR', 'ATSL', 'AVIL', 'LLDR', 'DRLA', 'LPAD', 'LAVP', 'VRDA', 'EAAR', 'AVVG', 'IAIA', 'ALSE', 'LSAL', 'LAVG', 'LALA', 'PAAT', 'LLSG', 'ATDA', 'KVLL', 'DLLK', 'FAGL', 'FLAA', 'LLDA', 'AAPG', 'NLAL', 'ADEA', 'ALDD', 'AALI', 'EAAL', 'RQLL', 'SVVV', 'TAAD', 'RVLA', 'RAVA', 'RLKE', 'ADAA', 'IDAA', 'LAVL', 'ELAK', 'GLLE', 'EALA', 'GGAP', 'GDGS', 'SAAT', 'TSSL', 'LSAT', 'GVRL', 'VALR', 'GSGK', 'EAGG', 'SAAA', 'LGVE', 'TAVV', 'VAAA', 'LAAA', 'RKAA', 'RRLA', 'AGLF', 'SSSA', 'VDAA', 'AAID', 'RLGR', 'GLAS', 'LLIL', 'LLIA', 'RLAT', 'KSTL', 'GVSG', 'RRVA', 'EIAR', 'SLSG', 'DALR', 'AALP', 'PSGS', 'AEKL', 'LVVS', 'ALLR', 'LDVA', 'RLLR', 'LSAR', 'DGDG', 'LLLA', 'GAPA', 'LLST', 'GSAT', 'VATV', 'AALE', 'ARAD', 'SAGL', 'LLKA', 'LLSE', 'PVAL', 'GLAG', 'LKLS', 'PSLS', 'ILDL', 'AALA', 'ALTL', 'SSPA', 'LART', 'GPGG', 'GVDV', 'VLVA', 'AQLA', 'VPAA', 'GALA', 'GIDL', 'LLIG', 'LALD', 'DATA', 'LQEL', 'TLSL', 'EKLL', 'LLFS', 'SSSS', 'TTTS', 'ALRE', 'TADG', 'KLLK', 'ELAT', 'LFLA', 'GTAL', 'LVGA', 'ISSL', 'DDEE', 'LLEG', 'VRSL', 'AVAG', 'TELL', 'SALE', 'AGVA', 'AVVA', 'SLIG', 'AAEA', 'SLGS', 'RVLS', 'AQAA', 'LSIL', 'LIEL', 'TGLL', 'ARLL', 'LAGG', 'LQAL', 'LEAL', 'TPSS', 'SLLV', 'PPPS', 'LALP', 'LVLI', 'ADLI', 'ILGL', 'VSGG', 'LKRL', 'LTDL', 'ADLS', 'ALLV', 'EKIK', 'TATA', 'IEKL', 'LAEI', 'GGLG', 'LADG', 'LPGA', 'LASR', 'LAIA', 'RVAR', 'SPDG', 'VLLA', 'SALR', 'ARLT', 'LDVL', 'VAVV', 'GELA', 'TGRL', 'ERLA', 'LARE', 'KEEE', 'LDDL', 'ALAN', 'EEVL', 'LKKL', 'EEIE', 'LLPE', 'SSLP', 'AISL', 'LLTL', 'SPSS', 'LEVA', 'ASGS', 'LRAA', 'VLLT', 'GTAG', 'LGDV', 'DRLG', 'PASP', 'LEEL', 'AGTL', 'LLEA', 'LALS', 'VALE', 'LAVV', 'GRLL', 'ARAV', 'IGGL', 'RLVV', 'VLEL', 'LGLG', 'ELAL', 'RLRL', 'TLLE', 'LTVA', 'AGIL', 'SSAS', 'EKLR', 'DAAR', 'RVAE', 'GRLT', 'AELV', 'VELL', 'RELL', 'LLKL', 'GLPL', 'QLLE', 'GLRL', 'LIDE', 'LPPL', 'AAKA', 'SELE', 'KEAL', 'ARDL', 'AEAR', 'ALRD', 'KLKK', 'GGLR', 'LSSL', 'GSTA', 'AAVG', 'LLDS', 'LVSA', 'LILD', 'ADAI', 'ELER', 'DALV', 'GILG', 'SVTV', 'AVLS', 'ADGA', 'LEER', 'IGLL', 'TAAT', 'GKLL', 'EKAA', 'LLLG', 'LEKI', 'EAVL', 'LVDR', 'GVGL', 'IERL', 'LEDL', 'RLAD', 'LSSG', 'LLFA', 'ALDR', 'LEEI', 'EAIA', 'IEAA', 'AVQA', 'VGGV', 'GRGG', 'LLSL', 'IAAV', 'AEDL', 'LDAR', 'LAGK', 'ARAR', 'PDGR', 'LKKK', 'LLAD', 'LSLE', 'LTLS', 'RSGR', 'TEAL', 'ADAV', 'GGSS', 'LLLK', 'TGSL', 'ELLE', 'ESLS', 'GLSG', 'SLRA', 'PALL', 'LVGT', 'QALE', 'ELAE', 'ASVL', 'LFSL', 'LGEL', 'LNEL', 'RRSL', 'VLEE', 'ADVV', 'LPLS', 'RAAS', 'DAGL', 'ERAL', 'LSPA', 'IAAG', 'VLVL', 'LRLV', 'ELDA', 'ADGG', 'AGFA', 'LREL', 'KALE', 'TLVL', 'LLRK', 'GVLA', 'VSSV', 'KKKK', 'RRRS', 'GSGR', 'LAER', 'LVTG', 'EEAR', 'AAGP', 'ALVG', 'TPLA', 'KKLK', 'VLVS', 'LASI', 'LLLF', 'LVPL', 'AAED', 'AELK', 'LKGL', 'LAKL', 'PAAL', 'LLDV', 'VLSE', 'VKEL', 'TSGS', 'RRGA', 'RAGE', 'LDGA', 'LASS', 'VLEG', 'VLVD', 'PALT', 'AEEE', 'NLLL', 'TLTL', 'VVLL', 'SSIS', 'LLFL', 'ASSV', 'LLEL', 'GLVR', 'DAPA', 'ALER', 'AGAV', 'ELRK', 'LLPL', 'AVSA', 'TRLL', 'AVAP', 'ALIG', 'GIVG', 'LLAG', 'DELV', 'SVLD', 'SILA', 'LKVL', 'LLGI', 'ATEA', 'QRLL', 'RVAG', 'ILLL', 'GEGA', 'SLLK', 'SADL', 'PLAL', 'LLGS', 'LRLG', 'LLVI', 'FLSL', 'LISL', 'GRLR', 'VLER', 'GKTL', 'AGIA', 'PSAA', 'VAAI', 'PAGT', 'GAEV', 'TATG', 'LRSL', 'LARR', 'SRRR', 'RGLG', 'SLSL', 'VLRL', 'TEAA', 'LLNS', 'LLDL', 'VTVT', 'LSAI', 'EELK', 'EELG', 'LAEV', 'LSVS', 'ASVG', 'TALV', 'LRRR', 'ASAA', 'GATV', 'RLRG', 'SLAI', 'LQLA', 'AKAA', 'RLSA', 'SLLQ', 'SDSD', 'SILL', 'DAER', 'AVEL', 'ELVS', 'LRRS', 'DVLA', 'IVAG', 'EAPA', 'GLVL', 'AGLA', 'EILK', 'ELLR', 'SGGG', 'EKEL', 'VLRA', 'PGLL', 'RRAE', 'SLVS', 'ASSL', 'EQLR', 'LAED', 'LVLS', 'LEEV', 'QLLR', 'SLGI', 'LLLS', 'TAAS', 'PASG', 'QQQQ', 'ASVS', 'LREV', 'RVLD', 'ALDG', 'IVLG', 'AKEL', 'SLED', 'ILAV', 'VRAA', 'LLDI', 'SALA', 'IAEA', 'ALIS', 'VSAA', 'AAGV', 'SRSS', 'AASR', 'KELG', 'DLDL', 'LGDL', 'ELVG', 'LEAE', 'TSST', 'VLSG', 'LAFA', 'ILLT', 'IVGG', 'QAAL', 'LGTL', 'AIVL', 'ELEK', 'AAAD', 'TAAI', 'LGGV', 'ELDE', 'VLTV', 'RAGV', 'STLS', 'AATE', 'RDAL', 'SALT', 'SVGL', 'SLAD', 'AASA', 'EELE', 'ADAL', 'GLPE', 'LVIL', 'GVEV', 'LSAS', 'LKAL', 'LEKE', 'AGTA', 'EELS', 'IAVG', 'VVVA', 'AAMA', 'VGAA', 'QLAA', 'LLAV', 'ARKL', 'ETLS', 'ALVL', 'LIEA', 'LDQL', 'VAIG', 'ALEL', 'AAIL', 'DAVL', 'DASA', 'LLVL', 'APDG', 'GGSG', 'EILR', 'LAGD', 'VAKA', 'RSRR', 'LIEE', 'VREL', 'TSLL', 'RARE', 'LDLV', 'ARAG', 'AERI', 'ALIA', 'GDLA', 'AERV', 'GSPA', 'LSEI', 'EKAL', 'LPLG', 'AERL', 'GLIA', 'VTLT', 'VLSL', 'IPLL', 'SGLS', 'AARG', 'ELVD', 'DLLS', 'RRSA', 'ALDA', 'GARV', 'LAVD', 'SLES', 'EAAA', 'KALR', 'LTEE', 'LSKE', 'LPSA', 'AAIG', 'LEEA', 'SAGV', 'AEER', 'LLAR', 'VAAD', 'TIAA', 'DALG', 'VESL', 'GGTG', 'SGLT', 'ALID', 'TLAL', 'DDDD', 'EELV', 'PVSA', 'APGG', 'LFAL', 'AGEL', 'ILIL', 'GIVA', 'VGIA', 'LLKN', 'LRRL', 'LLKD', 'AAYL', 'AEIA', 'AADG', 'AVAS', 'LRLD', 'ALIE', 'ALRS', 'SLSS', 'GELR', 'SLLP', 'AVLI', 'NLLA', 'LSGA', 'ALKE', 'LRAE', 'ALGS', 'ELEL', 'ARTL', 'FLLL', 'LPAL', 'TLSS', 'PPPL', 'EEEA', 'ALLS', 'EEIA', 'GGVS', 'SAGS', 'LAEG', 'SFLL', 'ALKK', 'GGGF', 'GGEG', 'AILA', 'LEQA', 'AERG', 'TAAL', 'ALAA', 'DLPA', 'TLLV', 'PVVV', 'VDDL', 'TAVG', 'PATA', 'AAVK', 'DAAS', 'TSLS', 'VLDV', 'GLSL', 'SSAL', 'AEQL', 'ATAI', 'KRLL', 'LVSS', 'AKKL', 'GASV', 'LALI', 'RLLT', 'VVPA', 'SDAA', 'SLLI', 'LLAT', 'ALRP', 'AAPR', 'EEKK', 'AELE', 'LKKA', 'AGRT', 'GFLL', 'VDVA', 'ALTA', 'LRDV', 'TVTL', 'LLRV', 'LGLD', 'RLTL', 'LSKL', 'IASA', 'ASEL', 'ARQL', 'DVLG', 'SLLS', 'TLDL', 'RRLR', 'VPAG', 'EIAA', 'LLVT', 'XXXX', 'VIGA', 'ATGG', 'GLST', 'ADEL', 'IAVL', 'AEQA', 'VARL', 'ALTD', 'LASG', 'LSSA', 'ASAR', 'GALT', 'EKAK', 'AAEL', 'SSLG', 'IALS', 'RLRA', 'LSTG', 'VREA', 'LLFV', 'LQTL', 'SAVV', 'ILSS', 'TSAG', 'SSAT', 'APLS', 'EAAG', 'SGSG', 'AVTG', 'ALGA', 'LLDK', 'IGAG', 'SGSS', 'GTGL', 'LSAA', 'LKKE', 'DSLS', 'LGRV', 'SLEA', 'ALAS', 'LERL', 'GRRA', 'AVRR', 'GLDL', 'SSLS', 'AGSS', 'LLAI', 'STAT', 'EARR', 'LKAG', 'PAPA', 'TSSA', 'SLVL', 'GSAV', 'GVLS', 'RREL', 'EEEE', 'LLPD', 'VGDA', 'LADL', 'RALP', 'VLGE', 'RRAG', 'SEEE', 'LEKL', 'ELVA', 'AVPG', 'VVSG', 'DLLP', 'EREA', 'LEDA', 'EALQ', 'GGGV', 'GVVV', 'LGFA', 'GTVT', 'TGEK', 'GLLI', 'AAPA', 'LPLL', 'VTLS', 'PLLS', 'VLRE', 'GSLR', 'VVLE', 'VRLA', 'DAAV', 'DVAR', 'GRVL', 'LEQL', 'REAG', 'GILL', 'RKLL', 'RLTG', 'AVVD', 'LKEL', 'ADTA', 'KEKK', 'LPEA', 'PARA', 'RAAG', 'VASG', 'EADL', 'RLAG', 'SSSK', 'GTVL', 'LVDG', 'STSG', 'AEAG', 'ATLR', 'EVAA', 'AIAR', 'ELLL', 'SGTV', 'KLLE', 'ALRK', 'TATS', 'RRLV', 'TVLD', 'AAGR', 'LDEI', 'RTAA', 'GEVL', 'GERV', 'ALVV', 'LLKK', 'GSGA', 'ARER', 'LVRR', 'AVPA', 'LLGE', 'AGRR', 'IEEL', 'VLIL', 'VSGS', 'RLLQ', 'LSVA', 'GVVT', 'RRRR', 'TTTT', 'AARE', 'SLSA', 'VARA', 'LTLL', 'DSAA', 'LRSV', 'LRDA', 'TLLS', 'VLTA', 'LGPL', 'LRGV', 'LSES', 'IKEL', 'AEEI', 'GDGV', 'VDEL', 'LAPE', 'RIAE', 'LVEA', 'PVAV', 'AAGE', 'SATL', 'ALAQ', 'GEPL', 'LGVL', 'DAAA', 'ELIE', 'AIAD', 'VVAG', 'LPRL', 'VLLS', 'GVAT', 'ALFG', 'VRAG', 'ELEE', 'RALE', 'DGGA', 'AAFL', 'GSSL', 'LLLN', 'QRLA', 'PAPV', 'GGGL', 'SLKE', 'TAEE', 'AARP', 'LLAE', 'AAGA', 'EEEV', 'ARVR', 'DEDE', 'LRRE', 'GVAR', 'AEAK', 'LSSS', 'AGAI', 'LGFL', 'AKLA', 'GLAA', 'ALKA', 'GLEL', 'ASVA', 'IATA', 'LAAM', 'SGRL', 'ADAR', 'VADL', 'KALL', 'GGLS', 'RLEL', 'LTSA', 'IELL', 'ATLA', 'GSLV', 'GLTV', 'AVTL', 'LSDA', 'LRLE', 'LASE', 'LNLS', 'TLSG', 'AALN', 'AEVE', 'LRPL', 'ALDV', 'LLSS', 'IAAS', 'AVEE', 'VLDG', 'SVTA', 'SGSA', 'LEGL', 'KILE', 'ALTV', 'GGPA', 'EDLE', 'GGDL', 'SLAS', 'TGGA', 'PLLT', 'AGLK', 'EKLE', 'AETA', 'RRLS', 'LDLE', 'LLGR', 'APVL', 'VEAL', 'LTAI', 'LSGI', 'EILS', 'VAGT', 'SSSV', 'LSGG', 'GGVA', 'PLLD', 'EAEK', 'GDAV', 'SVSL', 'GGGE', 'DLLR', 'LKQL', 'ASPA', 'EEAK', 'TGST', 'EVLK', 'AAVA', 'SVLL', 'SLAG', 'LTGV', 'SLDE', 'GLPV', 'LTLR', 'ARLP', 'DAAE', 'GAGP', 'GGAT']\n"
     ]
    }
   ],
   "source": [
    "# RDD_4mer = sc.textFile(\"/kmer_counting/output_java_spark_4mer/part-00000\")\n",
    "# kmer_seed = 77\n",
    "# embedding_kmers = np.array([str(sub.split(',')[0][1:]) for sub in RDD_4mer.take(3000)])\n",
    "# embedding_kmers_idxs =  np.random.default_rng(seed=kmer_seed).choice(range(3000),size=1024,replace=False)\n",
    "# embedding_kmers = list(embedding_kmers[embedding_kmers_idxs])\n",
    "\n",
    "embedding_kmers = []\n",
    "\n",
    "with open('best_kmers.txt','r') as f:\n",
    "    for line in f:\n",
    "        embedding_kmers.append(line.strip())\n",
    "        \n",
    "print(embedding_kmers)"
   ]
  },
  {
   "cell_type": "code",
   "execution_count": 8,
   "id": "bdafbd89",
   "metadata": {},
   "outputs": [
    {
     "name": "stdout",
     "output_type": "stream",
     "text": [
      "<class 'list'>\n"
     ]
    }
   ],
   "source": [
    "positive_idx = sc.textFile('/data/positiv_labels.txt').collect()\n",
    "print(type(positive_idx))\n",
    "\n",
    "sequences = sc.textFile('/data/swissprot.txt')\n",
    "\n",
    "def encode(seq):\n",
    "    bitlist = [1 if kmer in seq else 0 for kmer in embedding_kmers]\n",
    "    out = []\n",
    "    i=0\n",
    "    for bit in bitlist:\n",
    "        if i%32==0:\n",
    "            out.append(0)\n",
    "        out[-1] = (out[-1]<<1) | bit\n",
    "        i+=1\n",
    "    return tuple(out)\n",
    "\n",
    "def create_tuple(x):\n",
    "    out = []\n",
    "    data = x.split()\n",
    "\n",
    "    label = int (data[0] in positive_idx)\n",
    "    out.append(label)\n",
    "\n",
    "    bitlist = [1 if kmer in data[1] else 0 for kmer in embedding_kmers]\n",
    "    i = 0\n",
    "    for bit in bitlist:\n",
    "        if i%32==0:\n",
    "            out.append(0)\n",
    "        out[-1] = (out[-1]<<1) | bit\n",
    "        i+=1\n",
    "    return tuple(out)\n",
    "\n",
    "def create_tuple_unencode(x):\n",
    "    out = []\n",
    "    data = x.split()\n",
    "    \n",
    "    label = int (data[0] in positive_idx)\n",
    "    out.append(label)\n",
    "    \n",
    "    out += [1 if kmer in data[1] else 0 for kmer in embedding_kmers]\n",
    "    \n",
    "    return tuple(out)"
   ]
  },
  {
   "cell_type": "code",
   "execution_count": null,
   "id": "2bb0f0e0",
   "metadata": {},
   "outputs": [],
   "source": [
    "'''\n",
    "Encoded Version\n",
    "'''\n",
    "\n",
    "tuples = sequences.map(lambda x: create_tuple(x)).coalesce(1).saveAsTextFile('/MLInput')"
   ]
  },
  {
   "cell_type": "code",
   "execution_count": null,
   "id": "6e47560c",
   "metadata": {},
   "outputs": [],
   "source": [
    "'''\n",
    "Encoded Version\n",
    "'''\n",
    "\n",
    "''' move the output file 'part-00000' from hdfs to local '''\n",
    "# hdfs dfs -copyToLocal /MLInput/part-00000 ~/jupyter_notebook /\n",
    "\n",
    "# Write encoded version of sequences: for supervised & unsupervised learning\n",
    "with open('part-00000', 'r') as f1:\n",
    "    with open('MLInput.csv', 'w') as f2:\n",
    "        columns = ['labels,', ','.join(['f'+str(i) for i in range(1,33)]), '\\n']\n",
    "        f2.writelines(columns)\n",
    "        for line in f1:\n",
    "            nums = line.strip()[1:-1].split(',')\n",
    "            nums = [i.strip() for i in nums]\n",
    "            f2.write(','.join(nums)+'\\n')\n",
    "            \n",
    "with open('part-00000', 'r') as f1:\n",
    "    with open('MLInput_cluster.csv', 'w') as f2:\n",
    "        f2.write(','.join(['f'+str(i) for i in range(1,33)])+'\\n')\n",
    "        for line in f1:\n",
    "            nums = line.strip()[3:-1].split(',')\n",
    "            nums = [i.strip() for i in nums]\n",
    "            f2.write(','.join(nums)+'\\n')\n",
    "\n",
    "''' move the processed file from local to hdfs '''\n",
    "# hdfs dfs -copyFromLocal MLInput.csv /MLInput/\n",
    "# hdfs dfs -copyFromLocal MLInput_cluster.csv /MLInput/"
   ]
  },
  {
   "cell_type": "code",
   "execution_count": null,
   "id": "0ea134a7",
   "metadata": {},
   "outputs": [],
   "source": [
    "'''\n",
    "Unencoded Version\n",
    "'''\n",
    "\n",
    "tuples = sequences.map(lambda x: create_tuple_unencode(x)).coalesce(1).saveAsTextFile('/MLInput_u')"
   ]
  },
  {
   "cell_type": "code",
   "execution_count": 10,
   "id": "01149a51",
   "metadata": {},
   "outputs": [
    {
     "data": {
      "text/plain": [
       "' move the processed file from local to hdfs '"
      ]
     },
     "execution_count": 10,
     "metadata": {},
     "output_type": "execute_result"
    }
   ],
   "source": [
    "'''\n",
    "Unencoded Version\n",
    "'''\n",
    "\n",
    "''' move the output file 'part-00000' from hdfs to local '''\n",
    "# hdfs dfs -copyToLocal /MLInput_u/part-00000 ~/\n",
    "# mv part-00000 part-00000_u\n",
    "# mv part-00000_u ~/jupyter_notebook\n",
    "\n",
    "# Write encoded version of sequences: for supervised & unsupervised learning\n",
    "with open('part-00000_u', 'r') as f1:\n",
    "    with open('MLInput_cluster_u.csv', 'w') as f2:\n",
    "        f2.write(','.join(['f'+str(i) for i in range(1,1025)])+'\\n')\n",
    "        for line in f1:\n",
    "            nums = line.strip()[3:-1].split(',')\n",
    "            nums = [i.strip() for i in nums]\n",
    "            f2.write(','.join(nums)+'\\n')\n",
    "        \n",
    "            \n",
    "''' move the processed file from local to hdfs '''\n",
    "# hdfs dfs -copyFromLocal MLInput_u.csv /MLInput_u/\n",
    "# hdfs dfs -copyFromLocal MLInput_cluster_u.csv /MLInput_u/"
   ]
  },
  {
   "cell_type": "code",
   "execution_count": 11,
   "id": "89a4ea15",
   "metadata": {},
   "outputs": [],
   "source": [
    "with open('part-00000_u', 'r') as f1:\n",
    "    with open('MLInput_u.csv', 'w') as f2:\n",
    "        columns = ['labels,', ','.join(['f'+str(i) for i in range(1,1025)]), '\\n']\n",
    "        f2.writelines(columns)\n",
    "        for line in f1:\n",
    "            nums = line.strip()[1:-1].split(',')\n",
    "            nums = [i.strip() for i in nums]\n",
    "            f2.write(','.join(nums)+'\\n')"
   ]
  },
  {
   "cell_type": "code",
   "execution_count": null,
   "id": "1657bb95",
   "metadata": {},
   "outputs": [],
   "source": []
  }
 ],
 "metadata": {
  "kernelspec": {
   "display_name": "Python 3",
   "language": "python",
   "name": "python3"
  },
  "language_info": {
   "codemirror_mode": {
    "name": "ipython",
    "version": 3
   },
   "file_extension": ".py",
   "mimetype": "text/x-python",
   "name": "python",
   "nbconvert_exporter": "python",
   "pygments_lexer": "ipython3",
   "version": "3.6.9"
  }
 },
 "nbformat": 4,
 "nbformat_minor": 5
}
