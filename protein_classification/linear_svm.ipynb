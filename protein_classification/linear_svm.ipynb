{
 "cells": [
  {
   "cell_type": "code",
   "execution_count": 1,
   "id": "fe7eee7e",
   "metadata": {},
   "outputs": [],
   "source": [
    "import numpy as np\n",
    "import findspark\n",
    "findspark.init()\n",
    "findspark.find()\n",
    "import pyspark\n",
    "from pyspark.ml.feature import StandardScaler\n",
    "from pyspark.ml.linalg import DenseVector\n",
    "from pyspark.ml.evaluation import MulticlassClassificationEvaluator\n",
    "from pyspark.mllib.regression import LabeledPoint\n",
    "from pyspark.mllib.classification import SVMWithSGD, SVMModel\n",
    "from pyspark.sql.types import StringType, IntegerType, LongType, DoubleType\n",
    "from pyspark.sql import SparkSession\n",
    "from pyspark.ml.classification import LinearSVC\n",
    "from pyspark.mllib.evaluation import MulticlassMetrics\n",
    "import time"
   ]
  },
  {
   "cell_type": "code",
   "execution_count": 2,
   "id": "ec70b127",
   "metadata": {},
   "outputs": [],
   "source": [
    "conf = pyspark.SparkConf()\n",
    "pyspark.SparkContext.setSystemProperty('spark.executor.memory', '6g')\n",
    "sc = pyspark.SparkContext('spark://192.168.2.84:7077','Run supervised learning - linear support vector machine')\n",
    "spark = SparkSession.builder.getOrCreate()"
   ]
  },
  {
   "cell_type": "code",
   "execution_count": 3,
   "id": "56afc729",
   "metadata": {},
   "outputs": [],
   "source": [
    "columns = ['labels']\n",
    "for i in range(1, 1025):\n",
    "    columns.append(\"f\" + str(i))\n",
    "df = spark.read.format('csv').options(header='true').load('/MLInput_u/MLInput_u.csv') "
   ]
  },
  {
   "cell_type": "code",
   "execution_count": 4,
   "id": "f8314d6e",
   "metadata": {},
   "outputs": [],
   "source": [
    "def convertColumn(df, names, newType):\n",
    "    for name in names: \n",
    "        df = df.withColumn(name, df[name].cast(newType))\n",
    "    return df \n",
    "\n",
    "df = convertColumn(df, columns, LongType())"
   ]
  },
  {
   "cell_type": "code",
   "execution_count": 5,
   "id": "f70cbe06",
   "metadata": {},
   "outputs": [
    {
     "name": "stdout",
     "output_type": "stream",
     "text": [
      "root\n",
      " |-- label: long (nullable = true)\n",
      " |-- features: vector (nullable = true)\n",
      " |-- features_scaled: vector (nullable = true)\n",
      "\n",
      "+-----+--------------------+--------------------+\n",
      "|label|            features|     features_scaled|\n",
      "+-----+--------------------+--------------------+\n",
      "|    0|[0.0,0.0,0.0,0.0,...|[0.0,0.0,0.0,0.0,...|\n",
      "|    1|[0.0,0.0,0.0,0.0,...|[0.0,0.0,0.0,0.0,...|\n",
      "|    0|[0.0,0.0,0.0,0.0,...|[0.0,0.0,0.0,0.0,...|\n",
      "|    0|[0.0,0.0,0.0,0.0,...|[0.0,0.0,0.0,0.0,...|\n",
      "|    0|[0.0,0.0,0.0,0.0,...|[0.0,0.0,0.0,0.0,...|\n",
      "|    1|[0.0,0.0,0.0,0.0,...|[0.0,0.0,0.0,0.0,...|\n",
      "|    0|[0.0,0.0,0.0,0.0,...|[0.0,0.0,0.0,0.0,...|\n",
      "|    0|[0.0,0.0,0.0,0.0,...|[0.0,0.0,0.0,0.0,...|\n",
      "|    0|[0.0,0.0,0.0,0.0,...|[0.0,0.0,0.0,0.0,...|\n",
      "|    0|[0.0,0.0,0.0,0.0,...|[0.0,0.0,0.0,0.0,...|\n",
      "|    0|[0.0,0.0,0.0,0.0,...|[0.0,0.0,0.0,0.0,...|\n",
      "|    0|[0.0,0.0,0.0,0.0,...|[0.0,0.0,0.0,0.0,...|\n",
      "|    0|[0.0,0.0,0.0,0.0,...|[0.0,0.0,0.0,0.0,...|\n",
      "|    0|[0.0,0.0,0.0,1.0,...|[0.0,0.0,0.0,7.43...|\n",
      "|    0|[0.0,0.0,0.0,0.0,...|[0.0,0.0,0.0,0.0,...|\n",
      "|    1|[0.0,0.0,0.0,0.0,...|[0.0,0.0,0.0,0.0,...|\n",
      "|    0|[0.0,0.0,0.0,0.0,...|[0.0,0.0,0.0,0.0,...|\n",
      "|    1|[1.0,0.0,0.0,0.0,...|[6.27453666823538...|\n",
      "|    0|[0.0,0.0,0.0,0.0,...|[0.0,0.0,0.0,0.0,...|\n",
      "|    1|[0.0,0.0,0.0,0.0,...|[0.0,0.0,0.0,0.0,...|\n",
      "+-----+--------------------+--------------------+\n",
      "only showing top 20 rows\n",
      "\n"
     ]
    }
   ],
   "source": [
    "input_data = df.rdd.map(lambda x: (x[0], DenseVector(x[1:])))\n",
    "df_new = spark.createDataFrame(input_data, [\"label\", \"features\"])\n",
    "\n",
    "standardScaler = StandardScaler(inputCol=\"features\", outputCol=\"features_scaled\")\n",
    "scaler = standardScaler.fit(df_new)\n",
    "scaled_df = scaler.transform(df_new)\n",
    "\n",
    "scaled_df.drop('features')\n",
    "\n",
    "scaled_df.take(2)\n",
    "scaled_df.printSchema()\n",
    "scaled_df.show()\n",
    "\n",
    "# #Not Scaling\n",
    "# scaled_df = df_new\n",
    "# scaled_df.printSchema()\n",
    "# scaled_df.show()"
   ]
  },
  {
   "cell_type": "code",
   "execution_count": 13,
   "id": "7c9a61de",
   "metadata": {},
   "outputs": [],
   "source": [
    "splits = scaled_df.randomSplit([0.7, 0.3], 1234)\n",
    "trainData = splits[0].rdd.map(lambda row: LabeledPoint(row['label'], row['features'].toArray()))\n",
    "testData = splits[1].rdd.map(lambda row: LabeledPoint(row['label'], row['features'].toArray()))"
   ]
  },
  {
   "cell_type": "code",
   "execution_count": 20,
   "id": "27d90680",
   "metadata": {},
   "outputs": [],
   "source": [
    "model = SVMWithSGD.train(trainData, iterations=100)"
   ]
  },
  {
   "cell_type": "code",
   "execution_count": 21,
   "id": "d677fb1d",
   "metadata": {},
   "outputs": [],
   "source": [
    "labelsAndPreds = testData.map(lambda p: (float(p.label), float(model.predict(p.features))))"
   ]
  },
  {
   "cell_type": "code",
   "execution_count": 22,
   "id": "9b4303c2",
   "metadata": {},
   "outputs": [
    {
     "name": "stdout",
     "output_type": "stream",
     "text": [
      "[[178951.  44370.]\n",
      " [  1196.   1780.]]\n"
     ]
    }
   ],
   "source": [
    "metrics = MulticlassMetrics(labelsAndPreds)\n",
    "print(metrics.confusionMatrix().toArray())"
   ]
  },
  {
   "cell_type": "code",
   "execution_count": 23,
   "id": "f318eb38",
   "metadata": {},
   "outputs": [
    {
     "name": "stdout",
     "output_type": "stream",
     "text": [
      "0.7986451433293416\n",
      "0.7986451433293416\n",
      "0.7986451433293416\n",
      "0.7986451433293416\n",
      "0.9808046540812909\n",
      "0.7986451433293416\n",
      "0.8763514975508268\n"
     ]
    }
   ],
   "source": [
    "print(metrics.accuracy)\n",
    "\n",
    "print(metrics.precision())\n",
    "\n",
    "print(metrics.recall())\n",
    "\n",
    "print(metrics.fMeasure())\n",
    "\n",
    "print(metrics.weightedPrecision)\n",
    "\n",
    "print(metrics.weightedRecall)\n",
    "\n",
    "print(metrics.weightedFMeasure())"
   ]
  },
  {
   "cell_type": "code",
   "execution_count": 14,
   "id": "e075cd9b",
   "metadata": {},
   "outputs": [],
   "source": [
    "train_data = splits[0]\n",
    "test_data = splits[1]"
   ]
  },
  {
   "cell_type": "code",
   "execution_count": 17,
   "id": "40d7af5b",
   "metadata": {},
   "outputs": [
    {
     "name": "stdout",
     "output_type": "stream",
     "text": [
      "CrossValidatorModel_3c7036e93b0d\n"
     ]
    }
   ],
   "source": [
    "from pyspark.ml.classification import LinearSVC\n",
    "from pyspark.ml.tuning import ParamGridBuilder, CrossValidator\n",
    "from pyspark.ml.evaluation import BinaryClassificationEvaluator, MulticlassClassificationEvaluator\n",
    "from pyspark.mllib.evaluation import BinaryClassificationMetrics\n",
    "\n",
    "svm = LinearSVC(labelCol=\"label\", featuresCol=\"features_scaled\")\n",
    "svmparamGrid = (ParamGridBuilder().build())\n",
    "svmevaluator = MulticlassClassificationEvaluator(metricName=\"accuracy\")\n",
    "svmcv = CrossValidator(estimator = svm,\n",
    "                    estimatorParamMaps = svmparamGrid,\n",
    "                    evaluator = svmevaluator,\n",
    "                    numFolds = 10)\n",
    "svmcvModel = svmcv.fit(train_data)\n",
    "print(svmcvModel)"
   ]
  },
  {
   "cell_type": "code",
   "execution_count": 18,
   "id": "2a0c2965",
   "metadata": {},
   "outputs": [
    {
     "name": "stdout",
     "output_type": "stream",
     "text": [
      "Accuracy: 0.8454989269121012\n"
     ]
    }
   ],
   "source": [
    "predictions = svmcvModel.transform(test_data)\n",
    "print('Accuracy:', svmevaluator.evaluate(predictions))"
   ]
  },
  {
   "cell_type": "code",
   "execution_count": 19,
   "id": "acb8ac09",
   "metadata": {},
   "outputs": [],
   "source": [
    "predictions_rdd = predictions.withColumn(\"label\", predictions[\"label\"].cast(\"double\")).rdd.map(lambda r: (r.prediction, r.label))\n",
    "metrics = MulticlassMetrics(predictions_rdd)"
   ]
  },
  {
   "cell_type": "code",
   "execution_count": 20,
   "id": "39e8ac8c",
   "metadata": {},
   "outputs": [
    {
     "name": "stdout",
     "output_type": "stream",
     "text": [
      "Summary Stats\n",
      "Precision = 0.8454989269121012\n",
      "Recall = 0.8454989269121012\n",
      "F1 Score = 0.8454989269121012\n",
      "Weighted recall = 0.8454989269121012\n",
      "Weighted precision = 0.8430020645684446\n",
      "Weighted F(1) Score = 0.8158317237228315\n",
      "Weighted F(0.5) Score = 0.8195047310485137\n",
      "Weighted false positive rate = 0.5548099681796149\n"
     ]
    }
   ],
   "source": [
    "print(\"Summary Stats\")\n",
    "print(\"Precision = %s\" % metrics.precision())\n",
    "print(\"Recall = %s\" % metrics.recall())\n",
    "print(\"F1 Score = %s\" % metrics.fMeasure())\n",
    "print(\"Weighted recall = %s\" % metrics.weightedRecall)\n",
    "print(\"Weighted precision = %s\" % metrics.weightedPrecision)\n",
    "print(\"Weighted F(1) Score = %s\" % metrics.weightedFMeasure())\n",
    "print(\"Weighted F(0.5) Score = %s\" % metrics.weightedFMeasure(beta=0.5))\n",
    "print(\"Weighted false positive rate = %s\" % metrics.weightedFalsePositiveRate)"
   ]
  },
  {
   "cell_type": "code",
   "execution_count": 21,
   "id": "0f4f3d52",
   "metadata": {},
   "outputs": [
    {
     "name": "stdout",
     "output_type": "stream",
     "text": [
      "[[132768.   2216.]\n",
      " [ 23988.  10632.]]\n"
     ]
    }
   ],
   "source": [
    "print(metrics.confusionMatrix().toArray())"
   ]
  },
  {
   "cell_type": "code",
   "execution_count": 22,
   "id": "47cd318d",
   "metadata": {},
   "outputs": [],
   "source": [
    "sc.stop()"
   ]
  }
 ],
 "metadata": {
  "kernelspec": {
   "display_name": "Python 3",
   "language": "python",
   "name": "python3"
  },
  "language_info": {
   "codemirror_mode": {
    "name": "ipython",
    "version": 3
   },
   "file_extension": ".py",
   "mimetype": "text/x-python",
   "name": "python",
   "nbconvert_exporter": "python",
   "pygments_lexer": "ipython3",
   "version": "3.6.9"
  }
 },
 "nbformat": 4,
 "nbformat_minor": 5
}
