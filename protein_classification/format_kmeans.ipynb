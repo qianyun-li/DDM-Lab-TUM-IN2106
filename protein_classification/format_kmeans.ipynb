{
 "cells": [
  {
   "cell_type": "code",
   "execution_count": 1,
   "id": "6f6e9360",
   "metadata": {},
   "outputs": [],
   "source": [
    "import numpy as np\n",
    "import findspark\n",
    "findspark.init()\n",
    "findspark.find()\n",
    "import pyspark\n",
    "import pyspark\n",
    "import matplotlib.pyplot as plt\n",
    "import pandas as pd\n",
    "from pyspark.sql import SparkSession\n",
    "import time"
   ]
  },
  {
   "cell_type": "code",
   "execution_count": 2,
   "id": "8b5cde59",
   "metadata": {},
   "outputs": [],
   "source": [
    "conf = pyspark.SparkConf()\n",
    "pyspark.SparkContext.setSystemProperty('spark.executor.memory', '6g')\n",
    "#pyspark.SparkContext.setSystemProperty('spark.driver.memory', '14g')\n",
    "sc = pyspark.SparkContext('spark://192.168.2.84:7077','Run embedding new ds')\n",
    "spark = SparkSession.builder.getOrCreate()"
   ]
  },
  {
   "cell_type": "code",
   "execution_count": 3,
   "id": "5b396a33",
   "metadata": {},
   "outputs": [],
   "source": [
    "RDD_4mer = sc.textFile(\"/kmer_counting/output_java_spark_4mer/part-00000\")\n",
    "positive_sequences = []\n",
    "\n",
    "with open(\"/home/ubuntu/positiv_labels.txt\",'r') as f:\n",
    "    positive_sequences = [line.strip() for line in f.readlines()]\n",
    "    \n",
    "kmer_seed = 77\n",
    "\n",
    "# randomly generated most frequent 1024 4mers from the top 3000 4mers\n",
    "embedding_kmers = np.array([str(sub.split(',')[0][1:]) for sub in RDD_4mer.take(3000)])\n",
    "embedding_kmers_idxs =  np.random.default_rng(seed=kmer_seed).choice(range(3000),size=1024,replace=False)\n",
    "#print(embedding_kmers_idxs)\n",
    "embedding_kmers = list(embedding_kmers[embedding_kmers_idxs])\n",
    "#embedding_kmers[:10]"
   ]
  },
  {
   "cell_type": "code",
   "execution_count": 6,
   "id": "11c5a407",
   "metadata": {},
   "outputs": [],
   "source": [
    "def encode(seq):\n",
    "    bitlist = [1 if kmer in seq else 0 for kmer in embedding_kmers]\n",
    "    out = []\n",
    "    i=0\n",
    "    for bit in bitlist:\n",
    "        if i%32==0:\n",
    "            out.append(0)\n",
    "        out[-1] = (out[-1]<<1) | bit\n",
    "        i+=1\n",
    "    return out\n",
    "\n",
    "def label_to_class(label):\n",
    "    if label in positive_sequences:\n",
    "        return 1\n",
    "    return 0\n",
    "\n",
    "textRDD = sc.textFile(\"/data/swissprot.txt\")\n",
    "\n",
    "def line_to_embedding_and_label(line):\n",
    "    parts = line.split()\n",
    "    label = label_to_class(parts[0])\n",
    "    encoding = encode(parts[1])\n",
    "    return ' '.join([str(e) for e in encoding]), \"\"\n",
    "\n",
    "def toFileLine(line):\n",
    "    return ' '.join(str(d) for d in line)\n",
    "\n",
    "def apply_embedding_and_label(seed):\n",
    "    seq_rdd = textRDD.map(lambda line: toFileLine(line_to_embedding_and_label(line)))\n",
    "    return seq_rdd"
   ]
  },
  {
   "cell_type": "code",
   "execution_count": 8,
   "id": "e70af9c8",
   "metadata": {},
   "outputs": [],
   "source": [
    "start_time = time.time()\n",
    "seed = 0\n",
    "embedding_rdd = apply_embedding_and_label(seed)\n",
    "needed_time = (time.time() - start_time)/60\n",
    "embedding_rdd.saveAsTextFile(\"/unsupervised_embedding\")\n",
    "sc.stop()"
   ]
  },
  {
   "cell_type": "code",
   "execution_count": null,
   "id": "97e5538b",
   "metadata": {},
   "outputs": [],
   "source": []
  },
  {
   "cell_type": "code",
   "execution_count": null,
   "id": "66583a4f",
   "metadata": {},
   "outputs": [],
   "source": []
  }
 ],
 "metadata": {
  "kernelspec": {
   "display_name": "Python 3",
   "language": "python",
   "name": "python3"
  },
  "language_info": {
   "codemirror_mode": {
    "name": "ipython",
    "version": 3
   },
   "file_extension": ".py",
   "mimetype": "text/x-python",
   "name": "python",
   "nbconvert_exporter": "python",
   "pygments_lexer": "ipython3",
   "version": "3.6.9"
  }
 },
 "nbformat": 4,
 "nbformat_minor": 5
}
