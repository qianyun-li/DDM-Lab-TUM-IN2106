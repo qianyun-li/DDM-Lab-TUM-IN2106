{
 "cells": [
  {
   "cell_type": "code",
   "execution_count": 30,
   "id": "28d72a7e",
   "metadata": {},
   "outputs": [],
   "source": [
    "def compute_accuracy(array):\n",
    "    return (array[0][0]+array[1][1])/(sum(array[0])+sum(array[1]))\n",
    "\n",
    "def compute_recall(array):\n",
    "    return (array[0][0])/(array[0][0]+array[1][0])\n",
    "\n",
    "def compute_precision(array):\n",
    "    return (array[0][0])/(sum(array[0]))\n",
    "\n",
    "def compute_f1(array):\n",
    "    precision = compute_precision(array)\n",
    "    recall = compute_recall(array)\n",
    "    return 2*(precision*recall)/(precision+recall)"
   ]
  },
  {
   "cell_type": "code",
   "execution_count": 44,
   "id": "e8d73028",
   "metadata": {},
   "outputs": [
    {
     "name": "stdout",
     "output_type": "stream",
     "text": [
      "0.8255465672979411\n",
      "0.9815389400256218\n",
      "0.8302775567986069\n",
      "0.899594141521087\n"
     ]
    }
   ],
   "source": [
    "nb = [[166798,13349],[23970,22180]]\n",
    "dt = [[132548,27095],[2493,7468]]\n",
    "mlp = [[173884,6263],[25891,20259]]\n",
    "lsvm = [[178951,44370],[1196,1780]]\n",
    "nb_cross = [[125007,9977],[ 17925,16695]]\n",
    "dt_cross = [[132474,2510],[26501,8119]]\n",
    "svm_cross = [[132768,2216],[23988,10632]]\n",
    "print(compute_accuracy(dt))\n",
    "print(compute_recall(dt))\n",
    "print(compute_precision(dt))\n",
    "print(compute_f1(dt))"
   ]
  },
  {
   "cell_type": "code",
   "execution_count": 39,
   "id": "b4a1392d",
   "metadata": {},
   "outputs": [
    {
     "name": "stdout",
     "output_type": "stream",
     "text": [
      "0.835088401525429\n",
      "0.8743499958064246\n",
      "0.9258994043753157\n",
      "0.8993866519283394\n"
     ]
    }
   ],
   "source": [
    "print(compute_accuracy(nb))\n",
    "print(compute_recall(nb))\n",
    "print(compute_precision(nb))\n",
    "print(compute_f1(nb))"
   ]
  },
  {
   "cell_type": "code",
   "execution_count": 42,
   "id": "8905f083",
   "metadata": {},
   "outputs": [
    {
     "name": "stdout",
     "output_type": "stream",
     "text": [
      "0.8579123894704747\n",
      "0.8703991990989863\n",
      "0.9652339478314932\n",
      "0.9153668384563147\n"
     ]
    }
   ],
   "source": [
    "print(compute_accuracy(mlp))\n",
    "print(compute_recall(mlp))\n",
    "print(compute_precision(mlp))\n",
    "print(compute_f1(mlp))"
   ]
  },
  {
   "cell_type": "code",
   "execution_count": 45,
   "id": "8758b697",
   "metadata": {},
   "outputs": [
    {
     "name": "stdout",
     "output_type": "stream",
     "text": [
      "0.7986451433293416\n",
      "0.9933609774239927\n",
      "0.8013173861840132\n",
      "0.8870641537866696\n"
     ]
    }
   ],
   "source": [
    "print(compute_accuracy(lsvm))\n",
    "print(compute_recall(lsvm))\n",
    "print(compute_precision(lsvm))\n",
    "print(compute_f1(lsvm))"
   ]
  },
  {
   "cell_type": "code",
   "execution_count": 46,
   "id": "03aaa977",
   "metadata": {},
   "outputs": [
    {
     "name": "stdout",
     "output_type": "stream",
     "text": [
      "0.8354873705808825\n",
      "0.9260875363005986\n",
      "0.87459071446562\n",
      "0.8996027576677846\n"
     ]
    }
   ],
   "source": [
    "print(compute_accuracy(nb_cross))\n",
    "print(compute_precision(nb_cross))\n",
    "print(compute_recall(nb_cross))\n",
    "print(compute_f1(nb_cross))"
   ]
  },
  {
   "cell_type": "code",
   "execution_count": 47,
   "id": "3d42fb09",
   "metadata": {},
   "outputs": [
    {
     "name": "stdout",
     "output_type": "stream",
     "text": [
      "0.8289486097026013\n",
      "0.9814052035796835\n",
      "0.8333008334643812\n",
      "0.9013093662721672\n"
     ]
    }
   ],
   "source": [
    "print(compute_accuracy(dt_cross))\n",
    "print(compute_precision(dt_cross))\n",
    "print(compute_recall(dt_cross))\n",
    "print(compute_f1(dt_cross))"
   ]
  },
  {
   "cell_type": "code",
   "execution_count": 48,
   "id": "5bcd6764",
   "metadata": {},
   "outputs": [
    {
     "name": "stdout",
     "output_type": "stream",
     "text": [
      "0.8454989269121012\n",
      "0.9835832394950512\n",
      "0.8469723646941744\n",
      "0.9101802975251936\n"
     ]
    }
   ],
   "source": [
    "print(compute_accuracy(svm_cross))\n",
    "print(compute_precision(svm_cross))\n",
    "print(compute_recall(svm_cross))\n",
    "print(compute_f1(svm_cross))"
   ]
  },
  {
   "cell_type": "code",
   "execution_count": null,
   "id": "cc52a496",
   "metadata": {},
   "outputs": [],
   "source": []
  }
 ],
 "metadata": {
  "kernelspec": {
   "display_name": "Python 3",
   "language": "python",
   "name": "python3"
  },
  "language_info": {
   "codemirror_mode": {
    "name": "ipython",
    "version": 3
   },
   "file_extension": ".py",
   "mimetype": "text/x-python",
   "name": "python",
   "nbconvert_exporter": "python",
   "pygments_lexer": "ipython3",
   "version": "3.6.9"
  }
 },
 "nbformat": 4,
 "nbformat_minor": 5
}
